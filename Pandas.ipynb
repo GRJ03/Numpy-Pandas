{
  "nbformat": 4,
  "nbformat_minor": 0,
  "metadata": {
    "colab": {
      "provenance": []
    },
    "kernelspec": {
      "name": "python3",
      "display_name": "Python 3"
    },
    "language_info": {
      "name": "python"
    }
  },
  "cells": [
    {
      "cell_type": "markdown",
      "source": [
        "[![Open In Colab](https://colab.research.google.com/assets/colab-badge.svg)](https://colab.research.google.com/github/GRJ03/Numpy-Pandas/blob/main/Pandas.ipynb)"
      ],
      "metadata": {
        "id": "QNqpKx47QdTt"
      }
    },
    {
      "cell_type": "code",
      "execution_count": null,
      "metadata": {
        "id": "9huHOfwidZDe"
      },
      "outputs": [],
      "source": [
        "import pandas as pd"
      ]
    },
    {
      "cell_type": "markdown",
      "source": [],
      "metadata": {
        "id": "c09EbZTLTRN2"
      }
    },
    {
      "cell_type": "code",
      "source": [
        "#.csv files are comma separated values and .tsv files are tab separated value\n",
        "#pandas me bohot bada dataset (excel) ko uplad krke manipulate/clean/analyse data\n",
        "list=[1,2,3,4,5]\n",
        "#1D DS\n",
        "s1=pd.Series(list)\n",
        "#2D DS\n",
        "d1=pd.DataFrame(list)\n",
        "print(s1)\n",
        "print(d1)\n",
        "print(type(s1))\n",
        "\n",
        "list1=[1,2,3,4,5]\n",
        "list2=[44,2,3,4,5]\n",
        "list3=[3,2,3,4,5]\n",
        "dfinal=pd.DataFrame((list1,list2,list3))\n",
        "print(dfinal)\n",
        "\n"
      ],
      "metadata": {
        "colab": {
          "base_uri": "https://localhost:8080/"
        },
        "id": "3WvJxlaveNNx",
        "outputId": "612c6434-c48b-4eaf-b61a-c8e3e52f151f"
      },
      "execution_count": null,
      "outputs": [
        {
          "output_type": "stream",
          "name": "stdout",
          "text": [
            "0    1\n",
            "1    2\n",
            "2    3\n",
            "3    4\n",
            "4    5\n",
            "dtype: int64\n",
            "   0\n",
            "0  1\n",
            "1  2\n",
            "2  3\n",
            "3  4\n",
            "4  5\n",
            "<class 'pandas.core.series.Series'>\n",
            "    0  1  2  3  4\n",
            "0   1  2  3  4  5\n",
            "1  44  2  3  4  5\n",
            "2   3  2  3  4  5\n"
          ]
        }
      ]
    },
    {
      "cell_type": "code",
      "source": [
        "#can manually assign indexn(has columns)\n",
        "#by default 0 1 2 3 as index\n",
        "#print series\n",
        "dic1={'a':[2,2,3,4],'b':[3,4,4,4]}\n",
        "s2=pd.Series(dic1)\n",
        "print(s2)\n",
        "#print dataframe(2d ds)\n",
        "dic1={'a':[2,2,3,4],'b':[3,4,4,4]}\n",
        "d2=pd.DataFrame(dic1,columns=['a'],index=['1','2','3','4'])\n",
        "d3=pd.DataFrame(dic1,columns=['a','b'],index=['a','b','c','d'])\n",
        "print(d2)\n",
        "print(d3)\n",
        "# here column row in dataframe, ese matrix wgera me row column hoyta h\n",
        "print(d3['a']['c'])\n"
      ],
      "metadata": {
        "colab": {
          "base_uri": "https://localhost:8080/"
        },
        "id": "v-IRZSBje7EM",
        "outputId": "792d7d80-642a-47d2-c0ff-893b39dfff4b"
      },
      "execution_count": null,
      "outputs": [
        {
          "output_type": "stream",
          "name": "stdout",
          "text": [
            "a    [2, 2, 3, 4]\n",
            "b    [3, 4, 4, 4]\n",
            "dtype: object\n",
            "   a\n",
            "1  2\n",
            "2  2\n",
            "3  3\n",
            "4  4\n",
            "   a  b\n",
            "a  2  3\n",
            "b  2  4\n",
            "c  3  4\n",
            "d  4  4\n",
            "3\n"
          ]
        }
      ]
    },
    {
      "cell_type": "markdown",
      "source": [
        "# Arithmetic OPERATIONS"
      ],
      "metadata": {
        "id": "3Wid2qmghtHe"
      }
    },
    {
      "cell_type": "code",
      "source": [
        "d3=pd.DataFrame({'a':[1,2,3,4,5],'b':[9,8,7,6,5], 'c':[3,4,5,5,5]})\n",
        "print(d3)\n",
        "#to add column\n",
        "d3['e']=d3['b']-d3['a']\n",
        "print(d3)\n",
        "d3['d']=d3['e']>=6\n",
        "print(d3)\n"
      ],
      "metadata": {
        "colab": {
          "base_uri": "https://localhost:8080/"
        },
        "id": "BkX11_PkhyeV",
        "outputId": "b8d86ee2-71e1-4295-fd87-4a4bfdce93e4"
      },
      "execution_count": null,
      "outputs": [
        {
          "output_type": "stream",
          "name": "stdout",
          "text": [
            "   a  b  c\n",
            "0  1  9  3\n",
            "1  2  8  4\n",
            "2  3  7  5\n",
            "3  4  6  5\n",
            "4  5  5  5\n",
            "   a  b  c  e\n",
            "0  1  9  3  8\n",
            "1  2  8  4  6\n",
            "2  3  7  5  4\n",
            "3  4  6  5  2\n",
            "4  5  5  5  0\n",
            "   a  b  c  e      d\n",
            "0  1  9  3  8   True\n",
            "1  2  8  4  6   True\n",
            "2  3  7  5  4  False\n",
            "3  4  6  5  2  False\n",
            "4  5  5  5  0  False\n"
          ]
        }
      ]
    },
    {
      "cell_type": "markdown",
      "source": [
        "#INSERT"
      ],
      "metadata": {
        "id": "Q5f4a0r8i5UL"
      }
    },
    {
      "cell_type": "code",
      "source": [
        "# khud se nayi list ko as a col insert krna ho toh\n",
        "d4=pd.DataFrame({'a':[1,2,3,4,5],'b':[9,8,7,6,5], 'c':[3,4,5,5,5]})\n",
        "d4.insert(3,'d',[2,3,43,5,3])\n",
        "print(d4)\n",
        "d4.insert(4,'e',d4['b'])\n",
        "print(d4)\n"
      ],
      "metadata": {
        "colab": {
          "base_uri": "https://localhost:8080/"
        },
        "id": "tQQU9rOwiTE-",
        "outputId": "9dba6ad5-5d46-426d-ea57-97d2cfa98fd5"
      },
      "execution_count": null,
      "outputs": [
        {
          "output_type": "stream",
          "name": "stdout",
          "text": [
            "   a  b  c   d\n",
            "0  1  9  3   2\n",
            "1  2  8  4   3\n",
            "2  3  7  5  43\n",
            "3  4  6  5   5\n",
            "4  5  5  5   3\n",
            "   a  b  c   d  e\n",
            "0  1  9  3   2  9\n",
            "1  2  8  4   3  8\n",
            "2  3  7  5  43  7\n",
            "3  4  6  5   5  6\n",
            "4  5  5  5   3  5\n"
          ]
        }
      ]
    },
    {
      "cell_type": "markdown",
      "source": [
        "# DELETE\n"
      ],
      "metadata": {
        "id": "Ib3WylalkOuH"
      }
    },
    {
      "cell_type": "code",
      "source": [
        "\n",
        "d6=pd.DataFrame({'a':[1,2,3,4,5],'b':[9,8,7,6,5], 'c':[3,4,5,5,5]})\n",
        "d6.pop('c')\n",
        "print(d6)\n",
        "del d6['a']\n",
        "print(d6)"
      ],
      "metadata": {
        "colab": {
          "base_uri": "https://localhost:8080/"
        },
        "id": "9qBKjAVekU1v",
        "outputId": "368665bf-7782-4f91-a198-1ffdb707f110"
      },
      "execution_count": null,
      "outputs": [
        {
          "output_type": "stream",
          "name": "stdout",
          "text": [
            "   a  b\n",
            "0  1  9\n",
            "1  2  8\n",
            "2  3  7\n",
            "3  4  6\n",
            "4  5  5\n",
            "   b\n",
            "0  9\n",
            "1  8\n",
            "2  7\n",
            "3  6\n",
            "4  5\n"
          ]
        }
      ]
    },
    {
      "cell_type": "markdown",
      "source": [
        "# Write CSV file"
      ],
      "metadata": {
        "id": "klJtjolYlroS"
      }
    },
    {
      "cell_type": "code",
      "source": [
        "#dataframe ko csv me convert and csv ko excel me open kr skte\n",
        "\n",
        "d11=pd.DataFrame({'a':[1,2,3,4,5],'b':[9,8,7,6,5], 'c':[3,4,5,5,5]})\n",
        "d11.to_csv(\"GRJ_1ST_CSV.csv\",header=['A','B','C'],index=False)\n",
        "# d11.to_csv(\"GRJ_1ST_CSV.csv\",header=['A','B','C'],index=True)\n",
        "#header matlab column ka header jo excel me display hoga meri jaannn\n",
        "#index=false ka matlab h, index ka alag se column nhi bnega\n",
        "print(d11)\n",
        "\n",
        "\n"
      ],
      "metadata": {
        "colab": {
          "base_uri": "https://localhost:8080/"
        },
        "id": "EZPuoBcNkdsn",
        "outputId": "259a4e05-d6b1-418d-817e-50af9d7e039d"
      },
      "execution_count": null,
      "outputs": [
        {
          "output_type": "stream",
          "name": "stdout",
          "text": [
            "   a  b  c\n",
            "0  1  9  3\n",
            "1  2  8  4\n",
            "2  3  7  5\n",
            "3  4  6  5\n",
            "4  5  5  5\n"
          ]
        }
      ]
    },
    {
      "cell_type": "code",
      "source": [
        "#TO OPEN/Download EXCEL FILE from collab\n",
        "from google.colab import files\n",
        "files.download(\"GRJ_1ST_CSV.csv\")\n",
        "\n"
      ],
      "metadata": {
        "id": "EwUI-kbdmd9Q"
      },
      "execution_count": null,
      "outputs": []
    },
    {
      "cell_type": "markdown",
      "source": [
        "#READ CSV FILE"
      ],
      "metadata": {
        "id": "V0GNx-MpoDuo"
      }
    },
    {
      "cell_type": "code",
      "source": [
        "#browse krke le aa excel file colab pe\n",
        "#to use operations on excel file, we do this\n",
        "# agar tsv(tab seprated values) hoti to read wlo me ek aur agrumenet leta, i.e. sep='\\t'\n",
        "data=pd.read_csv(\"Data.csv\")\n",
        "# print(data)"
      ],
      "metadata": {
        "id": "_xr0-k4VndPJ"
      },
      "execution_count": null,
      "outputs": []
    },
    {
      "cell_type": "code",
      "source": [
        "#header neeche shift, is bkl method ka kabhi use nhi ayega meri jaan\n",
        "# data=pd.read_csv(\"GRJ_1ST_CSV.csv\",header=None)\n",
        "print(data)\n",
        "#tells rows ka kya scene h\n",
        "data.index\n",
        "#to see all columnn names\n",
        "data.columns\n",
        "#har column ka mean , sd , etc nikal k rkh dega\n",
        "data.describe()\n",
        "#if dataset is veryyyyy large(most cases) ,\n",
        "#use this to see only first 5 rows or jitna dekhna chahta h\n",
        "data.head(2)\n",
        "#for last\n",
        "data.tail(1)"
      ],
      "metadata": {
        "colab": {
          "base_uri": "https://localhost:8080/",
          "height": 282
        },
        "id": "NsViaZ8Ao9uv",
        "outputId": "ea7eaaa3-fb26-4060-c3a2-a8c75d3dad8d"
      },
      "execution_count": null,
      "outputs": [
        {
          "output_type": "stream",
          "name": "stdout",
          "text": [
            "   Country   Age   Salary Purchased\n",
            "0   France  44.0  72000.0        No\n",
            "1    Spain  27.0  48000.0       Yes\n",
            "2  Germany  30.0  54000.0        No\n",
            "3    Spain  38.0  61000.0        No\n",
            "4  Germany  40.0      NaN       Yes\n",
            "5   France  35.0  58000.0       Yes\n",
            "6    Spain   NaN  52000.0        No\n",
            "7   France  48.0  79000.0       Yes\n",
            "8  Germany  50.0  83000.0        No\n",
            "9   France  37.0  67000.0       Yes\n"
          ]
        },
        {
          "output_type": "execute_result",
          "data": {
            "text/plain": [
              "  Country   Age   Salary Purchased\n",
              "9  France  37.0  67000.0       Yes"
            ],
            "text/html": [
              "\n",
              "  <div id=\"df-8b5077d9-388c-4453-82be-165a8d5ac90e\" class=\"colab-df-container\">\n",
              "    <div>\n",
              "<style scoped>\n",
              "    .dataframe tbody tr th:only-of-type {\n",
              "        vertical-align: middle;\n",
              "    }\n",
              "\n",
              "    .dataframe tbody tr th {\n",
              "        vertical-align: top;\n",
              "    }\n",
              "\n",
              "    .dataframe thead th {\n",
              "        text-align: right;\n",
              "    }\n",
              "</style>\n",
              "<table border=\"1\" class=\"dataframe\">\n",
              "  <thead>\n",
              "    <tr style=\"text-align: right;\">\n",
              "      <th></th>\n",
              "      <th>Country</th>\n",
              "      <th>Age</th>\n",
              "      <th>Salary</th>\n",
              "      <th>Purchased</th>\n",
              "    </tr>\n",
              "  </thead>\n",
              "  <tbody>\n",
              "    <tr>\n",
              "      <th>9</th>\n",
              "      <td>France</td>\n",
              "      <td>37.0</td>\n",
              "      <td>67000.0</td>\n",
              "      <td>Yes</td>\n",
              "    </tr>\n",
              "  </tbody>\n",
              "</table>\n",
              "</div>\n",
              "    <div class=\"colab-df-buttons\">\n",
              "\n",
              "  <div class=\"colab-df-container\">\n",
              "    <button class=\"colab-df-convert\" onclick=\"convertToInteractive('df-8b5077d9-388c-4453-82be-165a8d5ac90e')\"\n",
              "            title=\"Convert this dataframe to an interactive table.\"\n",
              "            style=\"display:none;\">\n",
              "\n",
              "  <svg xmlns=\"http://www.w3.org/2000/svg\" height=\"24px\" viewBox=\"0 -960 960 960\">\n",
              "    <path d=\"M120-120v-720h720v720H120Zm60-500h600v-160H180v160Zm220 220h160v-160H400v160Zm0 220h160v-160H400v160ZM180-400h160v-160H180v160Zm440 0h160v-160H620v160ZM180-180h160v-160H180v160Zm440 0h160v-160H620v160Z\"/>\n",
              "  </svg>\n",
              "    </button>\n",
              "\n",
              "  <style>\n",
              "    .colab-df-container {\n",
              "      display:flex;\n",
              "      gap: 12px;\n",
              "    }\n",
              "\n",
              "    .colab-df-convert {\n",
              "      background-color: #E8F0FE;\n",
              "      border: none;\n",
              "      border-radius: 50%;\n",
              "      cursor: pointer;\n",
              "      display: none;\n",
              "      fill: #1967D2;\n",
              "      height: 32px;\n",
              "      padding: 0 0 0 0;\n",
              "      width: 32px;\n",
              "    }\n",
              "\n",
              "    .colab-df-convert:hover {\n",
              "      background-color: #E2EBFA;\n",
              "      box-shadow: 0px 1px 2px rgba(60, 64, 67, 0.3), 0px 1px 3px 1px rgba(60, 64, 67, 0.15);\n",
              "      fill: #174EA6;\n",
              "    }\n",
              "\n",
              "    .colab-df-buttons div {\n",
              "      margin-bottom: 4px;\n",
              "    }\n",
              "\n",
              "    [theme=dark] .colab-df-convert {\n",
              "      background-color: #3B4455;\n",
              "      fill: #D2E3FC;\n",
              "    }\n",
              "\n",
              "    [theme=dark] .colab-df-convert:hover {\n",
              "      background-color: #434B5C;\n",
              "      box-shadow: 0px 1px 3px 1px rgba(0, 0, 0, 0.15);\n",
              "      filter: drop-shadow(0px 1px 2px rgba(0, 0, 0, 0.3));\n",
              "      fill: #FFFFFF;\n",
              "    }\n",
              "  </style>\n",
              "\n",
              "    <script>\n",
              "      const buttonEl =\n",
              "        document.querySelector('#df-8b5077d9-388c-4453-82be-165a8d5ac90e button.colab-df-convert');\n",
              "      buttonEl.style.display =\n",
              "        google.colab.kernel.accessAllowed ? 'block' : 'none';\n",
              "\n",
              "      async function convertToInteractive(key) {\n",
              "        const element = document.querySelector('#df-8b5077d9-388c-4453-82be-165a8d5ac90e');\n",
              "        const dataTable =\n",
              "          await google.colab.kernel.invokeFunction('convertToInteractive',\n",
              "                                                    [key], {});\n",
              "        if (!dataTable) return;\n",
              "\n",
              "        const docLinkHtml = 'Like what you see? Visit the ' +\n",
              "          '<a target=\"_blank\" href=https://colab.research.google.com/notebooks/data_table.ipynb>data table notebook</a>'\n",
              "          + ' to learn more about interactive tables.';\n",
              "        element.innerHTML = '';\n",
              "        dataTable['output_type'] = 'display_data';\n",
              "        await google.colab.output.renderOutput(dataTable, element);\n",
              "        const docLink = document.createElement('div');\n",
              "        docLink.innerHTML = docLinkHtml;\n",
              "        element.appendChild(docLink);\n",
              "      }\n",
              "    </script>\n",
              "  </div>\n",
              "\n",
              "\n",
              "    </div>\n",
              "  </div>\n"
            ],
            "application/vnd.google.colaboratory.intrinsic+json": {
              "type": "dataframe",
              "summary": "{\n  \"name\": \"data\",\n  \"rows\": 1,\n  \"fields\": [\n    {\n      \"column\": \"Country\",\n      \"properties\": {\n        \"dtype\": \"string\",\n        \"num_unique_values\": 1,\n        \"samples\": [\n          \"France\"\n        ],\n        \"semantic_type\": \"\",\n        \"description\": \"\"\n      }\n    },\n    {\n      \"column\": \"Age\",\n      \"properties\": {\n        \"dtype\": \"number\",\n        \"std\": null,\n        \"min\": 37.0,\n        \"max\": 37.0,\n        \"num_unique_values\": 1,\n        \"samples\": [\n          37.0\n        ],\n        \"semantic_type\": \"\",\n        \"description\": \"\"\n      }\n    },\n    {\n      \"column\": \"Salary\",\n      \"properties\": {\n        \"dtype\": \"number\",\n        \"std\": null,\n        \"min\": 67000.0,\n        \"max\": 67000.0,\n        \"num_unique_values\": 1,\n        \"samples\": [\n          67000.0\n        ],\n        \"semantic_type\": \"\",\n        \"description\": \"\"\n      }\n    },\n    {\n      \"column\": \"Purchased\",\n      \"properties\": {\n        \"dtype\": \"string\",\n        \"num_unique_values\": 1,\n        \"samples\": [\n          \"Yes\"\n        ],\n        \"semantic_type\": \"\",\n        \"description\": \"\"\n      }\n    }\n  ]\n}"
            }
          },
          "metadata": {},
          "execution_count": 10
        }
      ]
    },
    {
      "cell_type": "markdown",
      "source": [
        "SLICING OF DATA"
      ],
      "metadata": {
        "id": "2qPAQKl9qlWa"
      }
    },
    {
      "cell_type": "code",
      "source": [
        "#rows k liye\n",
        "print(data[1:4])\n"
      ],
      "metadata": {
        "colab": {
          "base_uri": "https://localhost:8080/"
        },
        "id": "J24Z1niCm-e_",
        "outputId": "22eed8b5-281a-40d7-fe09-53117604a845"
      },
      "execution_count": null,
      "outputs": [
        {
          "output_type": "stream",
          "name": "stdout",
          "text": [
            "   Country   Age   Salary Purchased\n",
            "1    Spain  27.0  48000.0       Yes\n",
            "2  Germany  30.0  54000.0        No\n",
            "3    Spain  38.0  61000.0        No\n"
          ]
        }
      ]
    },
    {
      "cell_type": "code",
      "source": [
        "import numpy as np"
      ],
      "metadata": {
        "id": "m-nlAHkMqp3O"
      },
      "execution_count": null,
      "outputs": []
    },
    {
      "cell_type": "markdown",
      "source": [
        "#Dataset to numpy array"
      ],
      "metadata": {
        "id": "Ycu_hVSKq0RX"
      }
    },
    {
      "cell_type": "code",
      "source": [
        "numpy_arr=np.asarray(data)\n",
        "print(numpy_arr)\n",
        "print(data)"
      ],
      "metadata": {
        "colab": {
          "base_uri": "https://localhost:8080/"
        },
        "id": "hH7H5Nlgq7Ta",
        "outputId": "27a2c3f6-8de5-47fc-91d9-ea15367ad10f"
      },
      "execution_count": null,
      "outputs": [
        {
          "output_type": "stream",
          "name": "stdout",
          "text": [
            "[['France' 44.0 72000.0 'No']\n",
            " ['Spain' 27.0 48000.0 'Yes']\n",
            " ['Germany' 30.0 54000.0 'No']\n",
            " ['Spain' 38.0 61000.0 'No']\n",
            " ['Germany' 40.0 nan 'Yes']\n",
            " ['France' 35.0 58000.0 'Yes']\n",
            " ['Spain' nan 52000.0 'No']\n",
            " ['France' 48.0 79000.0 'Yes']\n",
            " ['Germany' 50.0 83000.0 'No']\n",
            " ['France' 37.0 67000.0 'Yes']]\n",
            "   Country   Age   Salary Purchased\n",
            "0   France  44.0  72000.0        No\n",
            "1    Spain  27.0  48000.0       Yes\n",
            "2  Germany  30.0  54000.0        No\n",
            "3    Spain  38.0  61000.0        No\n",
            "4  Germany  40.0      NaN       Yes\n",
            "5   France  35.0  58000.0       Yes\n",
            "6    Spain   NaN  52000.0        No\n",
            "7   France  48.0  79000.0       Yes\n",
            "8  Germany  50.0  83000.0        No\n",
            "9   France  37.0  67000.0       Yes\n"
          ]
        }
      ]
    },
    {
      "cell_type": "markdown",
      "source": [
        "#MOST IMP YE PADH LE DHANG **SE**"
      ],
      "metadata": {
        "id": "jQa4lllyrREB"
      }
    },
    {
      "cell_type": "code",
      "source": [
        "# jab specific row aur column proint krwana ho\n",
        "#isme we pass row as index and column as name, tabhi row pw slicing possible and column p nhi\n",
        "data.loc[[2,3],['A']]\n",
        "#IF USE SLICING TAB NO INSIDE []\n",
        "data.loc[2:,['A','B']]\n",
        "data.loc[0:5,['C','B']]"
      ],
      "metadata": {
        "id": "qToFjVk1rAQ9"
      },
      "execution_count": null,
      "outputs": []
    },
    {
      "cell_type": "code",
      "source": [
        "# agar .values lga de to we can print everything in form of array\n",
        "data.loc[1:4,['A','B','C']]\n",
        "data.loc[1:4,['A','B','C']].values\n"
      ],
      "metadata": {
        "id": "jUmE2Zr7semY"
      },
      "execution_count": null,
      "outputs": []
    },
    {
      "cell_type": "markdown",
      "source": [
        "#ILOC(most used bcccc)"
      ],
      "metadata": {
        "id": "vxox6Cw8sK0h"
      }
    },
    {
      "cell_type": "code",
      "source": [
        "#i loc mane index ki location meri jaaannn\n",
        "#isme we pass row and col both as index, tabhi dono pw slicing possible h,\n",
        "data.iloc[[2,3],[1,2]]\n",
        "data.iloc[1:,-1]\n",
        "data.iloc[0:,:2]\n",
        "# in datasets , jo y hota h(i.e. depoendent variable) ,\n",
        "#in general wo last column me hota h and need we need accces that , we use\n",
        "data.iloc[:,-1]"
      ],
      "metadata": {
        "id": "RNUlSX_OrusB"
      },
      "execution_count": null,
      "outputs": []
    },
    {
      "cell_type": "markdown",
      "source": [
        "# DROP/DELETE ROW AND COL"
      ],
      "metadata": {
        "id": "l-HN1GsquMqv"
      }
    },
    {
      "cell_type": "code",
      "source": [
        "#we need to define jis axis k along drop\n",
        "# axis=0 ,i.e y axis and axis=1, i.e. x axis\n",
        "#wahi data update hoga\n",
        "\n",
        "#we need to define kis axis k along prsent h jisse drop krna h\n",
        "#col drop\n",
        "data.drop('C',axis=1)\n",
        "#row drop\n",
        "data.drop(0,axis=0)\n"
      ],
      "metadata": {
        "id": "OnGm_qbKtfh1"
      },
      "execution_count": null,
      "outputs": []
    },
    {
      "cell_type": "code",
      "source": [
        "ds=pd.read_csv(\"Data.csv\")\n",
        "print(ds)\n",
        "ds.iloc[:,-1]"
      ],
      "metadata": {
        "colab": {
          "base_uri": "https://localhost:8080/",
          "height": 598
        },
        "id": "pQWvqJ_quS3L",
        "outputId": "f59fa79b-4411-4d0b-9236-bff6d7673c20"
      },
      "execution_count": null,
      "outputs": [
        {
          "output_type": "stream",
          "name": "stdout",
          "text": [
            "   Country   Age   Salary Purchased\n",
            "0   France  44.0  72000.0        No\n",
            "1    Spain  27.0  48000.0       Yes\n",
            "2  Germany  30.0  54000.0        No\n",
            "3    Spain  38.0  61000.0        No\n",
            "4  Germany  40.0      NaN       Yes\n",
            "5   France  35.0  58000.0       Yes\n",
            "6    Spain   NaN  52000.0        No\n",
            "7   France  48.0  79000.0       Yes\n",
            "8  Germany  50.0  83000.0        No\n",
            "9   France  37.0  67000.0       Yes\n"
          ]
        },
        {
          "output_type": "execute_result",
          "data": {
            "text/plain": [
              "0     No\n",
              "1    Yes\n",
              "2     No\n",
              "3     No\n",
              "4    Yes\n",
              "5    Yes\n",
              "6     No\n",
              "7    Yes\n",
              "8     No\n",
              "9    Yes\n",
              "Name: Purchased, dtype: object"
            ],
            "text/html": [
              "<div>\n",
              "<style scoped>\n",
              "    .dataframe tbody tr th:only-of-type {\n",
              "        vertical-align: middle;\n",
              "    }\n",
              "\n",
              "    .dataframe tbody tr th {\n",
              "        vertical-align: top;\n",
              "    }\n",
              "\n",
              "    .dataframe thead th {\n",
              "        text-align: right;\n",
              "    }\n",
              "</style>\n",
              "<table border=\"1\" class=\"dataframe\">\n",
              "  <thead>\n",
              "    <tr style=\"text-align: right;\">\n",
              "      <th></th>\n",
              "      <th>Purchased</th>\n",
              "    </tr>\n",
              "  </thead>\n",
              "  <tbody>\n",
              "    <tr>\n",
              "      <th>0</th>\n",
              "      <td>No</td>\n",
              "    </tr>\n",
              "    <tr>\n",
              "      <th>1</th>\n",
              "      <td>Yes</td>\n",
              "    </tr>\n",
              "    <tr>\n",
              "      <th>2</th>\n",
              "      <td>No</td>\n",
              "    </tr>\n",
              "    <tr>\n",
              "      <th>3</th>\n",
              "      <td>No</td>\n",
              "    </tr>\n",
              "    <tr>\n",
              "      <th>4</th>\n",
              "      <td>Yes</td>\n",
              "    </tr>\n",
              "    <tr>\n",
              "      <th>5</th>\n",
              "      <td>Yes</td>\n",
              "    </tr>\n",
              "    <tr>\n",
              "      <th>6</th>\n",
              "      <td>No</td>\n",
              "    </tr>\n",
              "    <tr>\n",
              "      <th>7</th>\n",
              "      <td>Yes</td>\n",
              "    </tr>\n",
              "    <tr>\n",
              "      <th>8</th>\n",
              "      <td>No</td>\n",
              "    </tr>\n",
              "    <tr>\n",
              "      <th>9</th>\n",
              "      <td>Yes</td>\n",
              "    </tr>\n",
              "  </tbody>\n",
              "</table>\n",
              "</div><br><label><b>dtype:</b> object</label>"
            ]
          },
          "metadata": {},
          "execution_count": 18
        }
      ]
    },
    {
      "cell_type": "markdown",
      "source": [
        "#DROP COL/ROW WITH MISSING VALUE"
      ],
      "metadata": {
        "id": "Q8_MUbs10WT1"
      }
    },
    {
      "cell_type": "code",
      "source": [
        "# #to check data set me missing values kaha pr ha,\n",
        "# print(ds.isnull().sum())\n",
        "# #kitne missinhg value h har column me\n",
        "# print(ds.isnull())\n",
        "\n",
        "#to drop col/row with missing values\n",
        "ds1=ds.dropna()\n",
        "#by default row hatega\n",
        "print(ds1)\n",
        "print(\"\")\n",
        "#col hatega\n",
        "ds2=ds.dropna(axis=1)\n",
        "print(ds2)\n"
      ],
      "metadata": {
        "colab": {
          "base_uri": "https://localhost:8080/"
        },
        "id": "2luzgxKoxDuk",
        "outputId": "b60a4db3-4ff2-4fdb-d6c8-b7d4f3e26cae"
      },
      "execution_count": null,
      "outputs": [
        {
          "output_type": "stream",
          "name": "stdout",
          "text": [
            "   Country   Age   Salary Purchased\n",
            "0   France  44.0  72000.0        No\n",
            "1    Spain  27.0  48000.0       Yes\n",
            "2  Germany  30.0  54000.0        No\n",
            "3    Spain  38.0  61000.0        No\n",
            "5   France  35.0  58000.0       Yes\n",
            "7   France  48.0  79000.0       Yes\n",
            "8  Germany  50.0  83000.0        No\n",
            "9   France  37.0  67000.0       Yes\n",
            "\n",
            "   Country Purchased\n",
            "0   France        No\n",
            "1    Spain       Yes\n",
            "2  Germany        No\n",
            "3    Spain        No\n",
            "4  Germany       Yes\n",
            "5   France       Yes\n",
            "6    Spain        No\n",
            "7   France       Yes\n",
            "8  Germany        No\n",
            "9   France       Yes\n"
          ]
        }
      ]
    },
    {
      "cell_type": "code",
      "source": [
        "# jis col m missing val hoga us row uda dega\n",
        "ds3=ds.dropna(subset=['Age'])\n",
        "print(ds3)\n",
        "print(\"      \")\n",
        "ds4=ds.dropna(subset=['Country'])\n",
        "print(ds4)\n",
        "print(\"\")\n",
        "ds.dropna(inplace=True)\n",
        "print(ds)"
      ],
      "metadata": {
        "id": "y1hqAayd1HiG"
      },
      "execution_count": null,
      "outputs": []
    },
    {
      "cell_type": "markdown",
      "source": [
        "#fill in the missing values"
      ],
      "metadata": {
        "id": "AmziIisC0cWf"
      }
    },
    {
      "cell_type": "code",
      "source": [
        "#jaha bhi khali ho\n",
        "ds6=ds.fillna(\"grj\")\n",
        "print(ds6)\n",
        "print(\"\")\n",
        "ds7=ds.fillna(11)\n",
        "print(ds7)"
      ],
      "metadata": {
        "id": "kvOnVtYKxlIR"
      },
      "execution_count": null,
      "outputs": []
    },
    {
      "cell_type": "code",
      "source": [
        "#forwardfill and backwardfill\n",
        "#f fill me uper wle row ki vakue niche pel dega\n",
        "ds8=ds.fillna(method=\"ffill\")\n",
        "print(ds8)\n",
        "print()\n",
        "#b fill me uper niche row ki vakue niche pel dega\n",
        "ds9=ds.fillna(method=\"bfill\")\n",
        "print(ds9)"
      ],
      "metadata": {
        "id": "mf7P_0-R2Auf"
      },
      "execution_count": null,
      "outputs": []
    },
    {
      "cell_type": "code",
      "source": [
        "# usko hi modify\n",
        "ds.fillna(\"grj\",inplace=True)\n",
        "print(ds)"
      ],
      "metadata": {
        "id": "xUzcsUVk2zzc"
      },
      "execution_count": null,
      "outputs": []
    },
    {
      "cell_type": "markdown",
      "source": [
        "#REPLACE"
      ],
      "metadata": {
        "id": "I9H_ndQM3RgT"
      }
    },
    {
      "cell_type": "code",
      "source": [
        "# for e.g. yes ko 1 se no ko 0 se, inplace\n",
        "ds.replace(to_replace=['No','Yes'],value=[0,1],inplace=True)\n",
        "print(ds)\n",
        "print()\n",
        "ds11=ds.replace(to_replace=['Germany','France'],value='India')\n",
        "print(ds11)"
      ],
      "metadata": {
        "id": "2EZgupF73Lsd"
      },
      "execution_count": null,
      "outputs": []
    },
    {
      "cell_type": "markdown",
      "source": [
        "#INTERPOLATE(man se value interpolate krke fil krega)"
      ],
      "metadata": {
        "id": "KJ8afXxJ5toG"
      }
    },
    {
      "cell_type": "code",
      "source": [
        "ds.interpolate(method='linear',inplace=True)\n",
        "ds.interpolate(inplace=True)\n",
        "print(ds)\n",
        "\n",
        "#we use scikit learn to fill the missing values\n"
      ],
      "metadata": {
        "colab": {
          "base_uri": "https://localhost:8080/"
        },
        "id": "nXRzDIU83rqQ",
        "outputId": "87dd50a6-2811-4d2f-c80c-17ec435942d8"
      },
      "execution_count": null,
      "outputs": [
        {
          "output_type": "stream",
          "name": "stdout",
          "text": [
            "   Country   Age   Salary Purchased\n",
            "0   France  44.0  72000.0        No\n",
            "1    Spain  27.0  48000.0       Yes\n",
            "2  Germany  30.0  54000.0        No\n",
            "3    Spain  38.0  61000.0        No\n",
            "4  Germany  40.0  59500.0       Yes\n",
            "5   France  35.0  58000.0       Yes\n",
            "6    Spain  41.5  52000.0        No\n",
            "7   France  48.0  79000.0       Yes\n",
            "8  Germany  50.0  83000.0        No\n",
            "9   France  37.0  67000.0       Yes\n"
          ]
        },
        {
          "output_type": "stream",
          "name": "stderr",
          "text": [
            "<ipython-input-29-e37d8b3e4903>:1: FutureWarning: DataFrame.interpolate with object dtype is deprecated and will raise in a future version. Call obj.infer_objects(copy=False) before interpolating instead.\n",
            "  ds.interpolate(method='linear',inplace=True)\n",
            "<ipython-input-29-e37d8b3e4903>:2: FutureWarning: DataFrame.interpolate with object dtype is deprecated and will raise in a future version. Call obj.infer_objects(copy=False) before interpolating instead.\n",
            "  ds.interpolate(inplace=True)\n"
          ]
        }
      ]
    },
    {
      "cell_type": "code",
      "source": [],
      "metadata": {
        "id": "hxuwFki65yPr"
      },
      "execution_count": null,
      "outputs": []
    }
  ]
}