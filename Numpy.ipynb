{
  "nbformat": 4,
  "nbformat_minor": 0,
  "metadata": {
    "colab": {
      "provenance": []
    },
    "kernelspec": {
      "name": "python3",
      "display_name": "Python 3"
    },
    "language_info": {
      "name": "python"
    }
  },
  "cells": [
    {
      "cell_type": "markdown",
      "source": [
        "[![Open In Colab](https://colab.research.google.com/assets/colab-badge.svg)](https://colab.research.google.com/github/GRJ03/Numpy-Pandas/blob/main/Numpy.ipynb)"
      ],
      "metadata": {
        "id": "uvIN1iFTR73f"
      }
    },
    {
      "cell_type": "code",
      "execution_count": 1,
      "metadata": {
        "colab": {
          "base_uri": "https://localhost:8080/"
        },
        "id": "grV9Guq66tYJ",
        "outputId": "8623c78f-5a1c-4bc0-8f3a-682b78c9bfb2"
      },
      "outputs": [
        {
          "output_type": "stream",
          "name": "stdout",
          "text": [
            "[1 3 4 5]\n"
          ]
        }
      ],
      "source": [
        "import numpy as np\n",
        "list=[1,3,4,5]\n",
        "x=np.array(list)\n",
        "print(x)"
      ]
    },
    {
      "cell_type": "markdown",
      "source": [],
      "metadata": {
        "id": "XVL_X5g7wr6c"
      }
    },
    {
      "cell_type": "code",
      "source": [
        "y=np.arange(1,10)\n",
        "print(y)\n",
        "print(np.shape(y))\n"
      ],
      "metadata": {
        "colab": {
          "base_uri": "https://localhost:8080/"
        },
        "id": "BJJPcG-P7hM0",
        "outputId": "b511dae4-73e8-4668-d962-df144396163d"
      },
      "execution_count": 2,
      "outputs": [
        {
          "output_type": "stream",
          "name": "stdout",
          "text": [
            "[1 2 3 4 5 6 7 8 9]\n",
            "(9,)\n"
          ]
        }
      ]
    },
    {
      "cell_type": "code",
      "source": [
        "#dimensions of array\n",
        "print(y.ndim)\n"
      ],
      "metadata": {
        "colab": {
          "base_uri": "https://localhost:8080/"
        },
        "id": "WYWqhrpT7u-h",
        "outputId": "4799ebf6-2043-4027-e2b9-f23f73f299b5"
      },
      "execution_count": 3,
      "outputs": [
        {
          "output_type": "stream",
          "name": "stdout",
          "text": [
            "1\n"
          ]
        }
      ]
    },
    {
      "cell_type": "code",
      "source": [
        "list=[[1,2],[3,4]]\n",
        "x=np.array(list)\n",
        "print(x)\n",
        "print(x.ndim)\n",
        "print(np.shape(x))\n",
        "print(x.shape)"
      ],
      "metadata": {
        "colab": {
          "base_uri": "https://localhost:8080/"
        },
        "id": "Wo524bTj79_o",
        "outputId": "0361e3af-e6eb-4cfc-d698-1e60c4ac2401"
      },
      "execution_count": 4,
      "outputs": [
        {
          "output_type": "stream",
          "name": "stdout",
          "text": [
            "[[1 2]\n",
            " [3 4]]\n",
            "2\n",
            "(2, 2)\n",
            "(2, 2)\n"
          ]
        }
      ]
    },
    {
      "cell_type": "code",
      "source": [
        "z=np.zeros((6))\n",
        "a=np.zeros((1,2))\n",
        "a=np.ones((1,2,3))\n",
        "\n",
        "print(z)\n",
        "print(a)\n"
      ],
      "metadata": {
        "colab": {
          "base_uri": "https://localhost:8080/"
        },
        "id": "T4Z40dBA8cpC",
        "outputId": "531bafb4-2cf8-472e-8df4-254a87ce571b"
      },
      "execution_count": 5,
      "outputs": [
        {
          "output_type": "stream",
          "name": "stdout",
          "text": [
            "[0. 0. 0. 0. 0. 0.]\n",
            "[[[1. 1. 1.]\n",
            "  [1. 1. 1.]]]\n"
          ]
        }
      ]
    },
    {
      "cell_type": "code",
      "source": [
        "arr_dia=np.eye(4,4)\n",
        "print(arr_dia)\n"
      ],
      "metadata": {
        "colab": {
          "base_uri": "https://localhost:8080/"
        },
        "id": "sBVl5yL59BXx",
        "outputId": "9a7e9030-e5e0-480e-ac0c-ed0d492af26e"
      },
      "execution_count": 6,
      "outputs": [
        {
          "output_type": "stream",
          "name": "stdout",
          "text": [
            "[[1. 0. 0. 0.]\n",
            " [0. 1. 0. 0.]\n",
            " [0. 0. 1. 0.]\n",
            " [0. 0. 0. 1.]]\n"
          ]
        }
      ]
    },
    {
      "cell_type": "code",
      "source": [
        "aab=np.linspace(0,10,num=4)\n",
        "print(aab)"
      ],
      "metadata": {
        "colab": {
          "base_uri": "https://localhost:8080/"
        },
        "id": "tPWMJOpP9bmC",
        "outputId": "9d6fd87e-e070-4b89-995a-d2efcdd41d8f"
      },
      "execution_count": 7,
      "outputs": [
        {
          "output_type": "stream",
          "name": "stdout",
          "text": [
            "[ 0.          3.33333333  6.66666667 10.        ]\n"
          ]
        }
      ]
    },
    {
      "cell_type": "code",
      "source": [],
      "metadata": {
        "id": "8ZBuTzmN9ocn"
      },
      "execution_count": 7,
      "outputs": []
    },
    {
      "cell_type": "code",
      "source": [
        "#print random numbers\n",
        "random=np.random.randint(1,50,10)\n",
        "print(random)"
      ],
      "metadata": {
        "colab": {
          "base_uri": "https://localhost:8080/"
        },
        "id": "YZ0DUUK69_EB",
        "outputId": "9f3fe186-f10f-4488-fa3e-7ab8542494fe"
      },
      "execution_count": 8,
      "outputs": [
        {
          "output_type": "stream",
          "name": "stdout",
          "text": [
            "[27 26  3 29 12  2 24  2 12 16]\n"
          ]
        }
      ]
    },
    {
      "cell_type": "code",
      "source": [
        "#type of in array\n",
        "var=np.arange(1,10)\n",
        "print(type(var))\n",
        "print(var)\n",
        "#elements ka type\n",
        "print(var.dtype)"
      ],
      "metadata": {
        "colab": {
          "base_uri": "https://localhost:8080/"
        },
        "id": "OI8ab-Dv-YBv",
        "outputId": "ecc75777-78a4-4d03-8556-96465f74fde2"
      },
      "execution_count": 9,
      "outputs": [
        {
          "output_type": "stream",
          "name": "stdout",
          "text": [
            "<class 'numpy.ndarray'>\n",
            "[1 2 3 4 5 6 7 8 9]\n",
            "int64\n"
          ]
        }
      ]
    },
    {
      "cell_type": "code",
      "source": [
        "#array k element ka data type change krna ha toh ye kr\n",
        "array=np.array([1,3,4,4,2],dtype=\"float\")\n",
        "print(array)\n",
        "print(array.dtype)"
      ],
      "metadata": {
        "colab": {
          "base_uri": "https://localhost:8080/"
        },
        "id": "_jj9bYy0-4Pw",
        "outputId": "776370ef-54b1-45d2-9cc8-2d40c0748e3c"
      },
      "execution_count": 10,
      "outputs": [
        {
          "output_type": "stream",
          "name": "stdout",
          "text": [
            "[1. 3. 4. 4. 2.]\n",
            "float64\n"
          ]
        }
      ]
    },
    {
      "cell_type": "code",
      "source": [
        "#arithmetic opertaion in numpy\n",
        "var1=np.array([1,2,3])\n",
        "var2=np.array([4,5,6])\n",
        "var3=np.array([7,8,9])\n",
        "ans1=var1*var2+var3\n",
        "summ=np.add(var1,var2,var3)\n",
        "mod=np.mod(var1,var2)\n",
        "divide=np.divide(var1,var2)\n",
        "print(summ)\n",
        "print(ans1)\n",
        "\n",
        "var2=var2%2\n",
        "var1=var1**3\n",
        "ans2=var1*var2+var3\n",
        "print(ans2)\n",
        "## aur ek method ye l\n"
      ],
      "metadata": {
        "colab": {
          "base_uri": "https://localhost:8080/"
        },
        "id": "9Key06DK_Z1M",
        "outputId": "adde37db-0fc3-4fde-c41e-b4ae4011bbb1"
      },
      "execution_count": 11,
      "outputs": [
        {
          "output_type": "stream",
          "name": "stdout",
          "text": [
            "[5 7 9]\n",
            "[11 18 27]\n",
            "[ 5 15  9]\n"
          ]
        }
      ]
    },
    {
      "cell_type": "code",
      "source": [
        "# 2D array\n",
        "twoD1=np.array([[1,2],[2,3]])\n",
        "twoD2=np.array([[2,1],[5,4]])\n",
        "sum=twoD1+twoD2\n",
        "print(sum)"
      ],
      "metadata": {
        "colab": {
          "base_uri": "https://localhost:8080/"
        },
        "id": "Zh1sLECHBmK3",
        "outputId": "844cbec2-94fc-4b0c-9332-f35914336a81"
      },
      "execution_count": 12,
      "outputs": [
        {
          "output_type": "stream",
          "name": "stdout",
          "text": [
            "[[3 3]\n",
            " [7 7]]\n"
          ]
        }
      ]
    },
    {
      "cell_type": "code",
      "source": [
        "arr1=np.arange(1,11)\n",
        "newArr=np.cumsum(arr1)\n",
        "\n",
        "print(arr1)\n",
        "print(newArr)\n",
        "print(np.max(newArr))\n",
        "print(np.sqrt(newArr))\n",
        "print(np.sin(newArr))"
      ],
      "metadata": {
        "id": "pr5IkfMdCYWl",
        "colab": {
          "base_uri": "https://localhost:8080/"
        },
        "outputId": "1de608ea-8cf8-4868-9fcb-c22df82c6df8"
      },
      "execution_count": 13,
      "outputs": [
        {
          "output_type": "stream",
          "name": "stdout",
          "text": [
            "[ 1  2  3  4  5  6  7  8  9 10]\n",
            "[ 1  3  6 10 15 21 28 36 45 55]\n",
            "55\n",
            "[1.         1.73205081 2.44948974 3.16227766 3.87298335 4.58257569\n",
            " 5.29150262 6.         6.70820393 7.41619849]\n",
            "[ 0.84147098  0.14112001 -0.2794155  -0.54402111  0.65028784  0.83665564\n",
            "  0.27090579 -0.99177885  0.85090352 -0.99975517]\n"
          ]
        }
      ]
    },
    {
      "cell_type": "code",
      "source": [
        "#convert 1d to 2d,3d using reshape"
      ],
      "metadata": {
        "id": "7GLnJwVcFvDy"
      },
      "execution_count": 14,
      "outputs": []
    },
    {
      "cell_type": "code",
      "source": [
        "threeD=np.array([[[1,2],[3,4],[4,5]]])\n",
        "print(threeD.ndim)\n",
        "print(threeD.shape)\n",
        "print(threeD.reshape(6))"
      ],
      "metadata": {
        "colab": {
          "base_uri": "https://localhost:8080/"
        },
        "id": "YlKKlu4uHM8e",
        "outputId": "4f355e04-4129-47e6-f664-156622016a0b"
      },
      "execution_count": 15,
      "outputs": [
        {
          "output_type": "stream",
          "name": "stdout",
          "text": [
            "3\n",
            "(1, 3, 2)\n",
            "[1 2 3 4 4 5]\n"
          ]
        }
      ]
    },
    {
      "cell_type": "code",
      "source": [
        "c=[[1,2],[33,4]]\n",
        "d=np.array(c)\n",
        "print(c[1][1])\n",
        "print(c[0][1])\n",
        "\n"
      ],
      "metadata": {
        "colab": {
          "base_uri": "https://localhost:8080/"
        },
        "id": "85YqzEJZJUPB",
        "outputId": "380e1670-604f-43fd-98da-14b9d39f6d71"
      },
      "execution_count": 16,
      "outputs": [
        {
          "output_type": "stream",
          "name": "stdout",
          "text": [
            "4\n",
            "2\n"
          ]
        }
      ]
    },
    {
      "cell_type": "code",
      "source": [
        "#broadcating andar hi andar hoti h, dikhti nhi h"
      ],
      "metadata": {
        "id": "-6d9idAGIQyR"
      },
      "execution_count": 17,
      "outputs": []
    },
    {
      "cell_type": "code",
      "source": [
        "#SLICING\n",
        "aloki=np.array([1,2,21,4])\n",
        "grj=np.array([[1,2],[21,4]])\n",
        "print(aloki[0:])\n",
        "print(aloki[2:3])\n",
        "print(grj[1,1:])"
      ],
      "metadata": {
        "colab": {
          "base_uri": "https://localhost:8080/"
        },
        "id": "ULS06vi8LGsV",
        "outputId": "b90a7a6a-bafa-40da-ccbd-0eafae28209a"
      },
      "execution_count": 18,
      "outputs": [
        {
          "output_type": "stream",
          "name": "stdout",
          "text": [
            "[ 1  2 21  4]\n",
            "[21]\n",
            "[4]\n"
          ]
        }
      ]
    },
    {
      "cell_type": "code",
      "source": [
        "#iteration\n",
        "aeaayyy=np.array([5,4,5,5])\n",
        "print(aeaayyy)\n",
        "for i in aeaayyy:\n",
        "  print(i)\n",
        "for i in range(0,4):\n",
        "  print(i)\n",
        "ae=np.array([[1,2,3],[4,5,6]])\n",
        "for i in ae:\n",
        "  for j in i:\n",
        "    print(j)\n",
        "# shortcut\n",
        "for i in np.nditer(ae):\n",
        "  print(i)\n",
        "\n"
      ],
      "metadata": {
        "colab": {
          "base_uri": "https://localhost:8080/"
        },
        "id": "qkuzAnwSLtKx",
        "outputId": "be8a61ae-07da-420d-d4ce-6cce3daa4b33"
      },
      "execution_count": 19,
      "outputs": [
        {
          "output_type": "stream",
          "name": "stdout",
          "text": [
            "[5 4 5 5]\n",
            "5\n",
            "4\n",
            "5\n",
            "5\n",
            "0\n",
            "1\n",
            "2\n",
            "3\n",
            "1\n",
            "2\n",
            "3\n",
            "4\n",
            "5\n",
            "6\n",
            "1\n",
            "2\n",
            "3\n",
            "4\n",
            "5\n",
            "6\n"
          ]
        }
      ]
    },
    {
      "cell_type": "code",
      "source": [
        "g=np.array([1,2,3])\n",
        "gcopy=g.copy()\n",
        "print(\"a:\",g)\n",
        "gcopy[0]=4\n",
        "print(g)\n",
        "print(gcopy)\n"
      ],
      "metadata": {
        "colab": {
          "base_uri": "https://localhost:8080/"
        },
        "id": "3cPgQU-1Ml4_",
        "outputId": "7347ec8d-0f6f-4e60-98b1-f7dabb1faa27"
      },
      "execution_count": 20,
      "outputs": [
        {
          "output_type": "stream",
          "name": "stdout",
          "text": [
            "a: [1 2 3]\n",
            "[1 2 3]\n",
            "[4 2 3]\n"
          ]
        }
      ]
    },
    {
      "cell_type": "code",
      "source": [
        "v=np.array([1,2,3])\n",
        "view=v.view()\n",
        "view[0]=4\n",
        "print(v)\n",
        "print(view)\n",
        "\n",
        "\n"
      ],
      "metadata": {
        "colab": {
          "base_uri": "https://localhost:8080/"
        },
        "id": "wtcxfsoOMOIW",
        "outputId": "5cdf342e-96d0-46e6-b7ec-df8400716ca1"
      },
      "execution_count": 21,
      "outputs": [
        {
          "output_type": "stream",
          "name": "stdout",
          "text": [
            "[4 2 3]\n",
            "[4 2 3]\n"
          ]
        }
      ]
    },
    {
      "cell_type": "code",
      "source": [
        "g=np.array([1,2,3])\n",
        "gcopy=g.copy()\n",
        "conc=np.concatenate((g,gcopy))\n",
        "print(conc)"
      ],
      "metadata": {
        "colab": {
          "base_uri": "https://localhost:8080/"
        },
        "id": "jVjfvmOEN6lq",
        "outputId": "a741216d-4c76-4258-e55e-3d65a4b50e08"
      },
      "execution_count": 22,
      "outputs": [
        {
          "output_type": "stream",
          "name": "stdout",
          "text": [
            "[1 2 3 1 2 3]\n"
          ]
        }
      ]
    },
    {
      "cell_type": "code",
      "source": [
        "x=np.array([[1,2],[3,4]])\n",
        "y=np.array([[1,2],[3,4]])\n",
        "print(y.flatten())\n",
        "# conca=np.concatenate((x,y),axis=1)\n",
        "# print(conca)"
      ],
      "metadata": {
        "colab": {
          "base_uri": "https://localhost:8080/"
        },
        "id": "gmmnDAUWOVcr",
        "outputId": "861a5c1f-e9ea-4b4e-94af-b77b4f6c52b3"
      },
      "execution_count": 23,
      "outputs": [
        {
          "output_type": "stream",
          "name": "stdout",
          "text": [
            "[1 2 3 4]\n"
          ]
        }
      ]
    },
    {
      "cell_type": "code",
      "source": [
        "#split\n",
        "m=np.array_split(g,4)\n",
        "print(m)"
      ],
      "metadata": {
        "colab": {
          "base_uri": "https://localhost:8080/"
        },
        "id": "DfxY5u9sPjvg",
        "outputId": "e922be09-8d08-4138-a410-b7737bcc7333"
      },
      "execution_count": 24,
      "outputs": [
        {
          "output_type": "stream",
          "name": "stdout",
          "text": [
            "[array([1]), array([2]), array([3]), array([], dtype=int64)]\n"
          ]
        }
      ]
    },
    {
      "cell_type": "code",
      "source": [
        "#search\n",
        "ekarray=np.array([2,41,3,24,8])\n",
        "#return index of even number ki aaray\n",
        "# answer=np.where(#condition)\n",
        "answer=np.where((ekarray%2==0))\n",
        "print(answer)\n",
        "\n",
        "# search sorted, kha insert kre ek value ko, uska index batga in sorted array bkl\n",
        "#sort\n",
        "sorted=np.sort(ekarray)\n",
        "print(sorted)\n",
        "index=np.searchsorted(sorted,22)\n",
        "print(index)\n",
        "\n",
        "\n",
        "#filter\n",
        "f=[True,False,False,True,True]\n",
        "print(ekarray[f])"
      ],
      "metadata": {
        "colab": {
          "base_uri": "https://localhost:8080/"
        },
        "id": "0XUGkwFMSFPU",
        "outputId": "bea6ed49-a00e-49ef-caf1-150a8fb5bc0e"
      },
      "execution_count": 25,
      "outputs": [
        {
          "output_type": "stream",
          "name": "stdout",
          "text": [
            "(array([0, 3, 4]),)\n",
            "[ 2  3  8 24 41]\n",
            "3\n",
            "[ 2 24  8]\n"
          ]
        }
      ]
    },
    {
      "cell_type": "code",
      "source": [
        "ls=np.array([1,2,3,2,4,7])\n",
        "# np.random.shuffle(ls)\n",
        "obj=np.unique(ls)\n",
        "# re=np.resize(ls,(3,2))\n",
        "lsnew=np.insert(ls,(3,5),44)\n",
        "# print(ls)\n",
        "print(obj)\n",
        "# # print(re)\n",
        "print(lsnew)\n",
        "lsdel=np.delete(ls,0)\n",
        "print(lsdel)\n"
      ],
      "metadata": {
        "colab": {
          "base_uri": "https://localhost:8080/"
        },
        "id": "_MptskHoSGJz",
        "outputId": "b69e1447-982c-4175-d5c3-1967ee2081f9"
      },
      "execution_count": 26,
      "outputs": [
        {
          "output_type": "stream",
          "name": "stdout",
          "text": [
            "[1 2 3 4 7]\n",
            "[ 1  2  3 44  2  4 44  7]\n",
            "[2 3 2 4 7]\n"
          ]
        }
      ]
    },
    {
      "cell_type": "code",
      "source": [
        "#similar as 2darray , matrix me bas np.matrix hota h\n",
        "m1=np.matrix([[1,2],[2,4]])\n",
        "m2=np.matrix([[12,23],[221,41]])\n",
        "#multipilcation matricx jes bkl smjh jaaa\n",
        "print(m1+m2)\n",
        "print(m1/m2)\n",
        "print(np.subtract(m1,m2))\n",
        "print(np.transpose(m2))\n",
        "#swapaxes ,transpose ka naya tareeka,use 1,0 or 0,1 farak nhi padhta\n",
        "print(np.swapaxes(m2,0,1))\n",
        "#inverse(topic of linear algebra), #inverse of matrix\n",
        "print(np.linalg.inv(m2))\n",
        "#matrix ka cube/sqaure, i.e ppower\n",
        "print(np.linalg.matrix_power(m1,4))\n",
        "#idetntity matrix\n",
        "print(np.linalg.matrix_power(m1,0))\n",
        "#determinant\n",
        "print(np.linalg.det(m1))"
      ],
      "metadata": {
        "colab": {
          "base_uri": "https://localhost:8080/"
        },
        "id": "NaLRMuOqUkxz",
        "outputId": "81f53e00-f709-4eb2-89b4-6850ca25dbde"
      },
      "execution_count": 27,
      "outputs": [
        {
          "output_type": "stream",
          "name": "stdout",
          "text": [
            "[[ 13  25]\n",
            " [223  45]]\n",
            "[[0.08333333 0.08695652]\n",
            " [0.00904977 0.09756098]]\n",
            "[[ -11  -21]\n",
            " [-219  -37]]\n",
            "[[ 12 221]\n",
            " [ 23  41]]\n",
            "[[ 12 221]\n",
            " [ 23  41]]\n",
            "[[-0.00893052  0.0050098 ]\n",
            " [ 0.04813766 -0.00261381]]\n",
            "[[125 250]\n",
            " [250 500]]\n",
            "[[1 0]\n",
            " [0 1]]\n",
            "0.0\n"
          ]
        }
      ]
    }
  ]
}